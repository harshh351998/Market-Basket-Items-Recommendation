{
 "cells": [
  {
   "cell_type": "code",
   "execution_count": null,
   "metadata": {},
   "outputs": [],
   "source": [
    "%matplotlib inline\n",
    "import pandas as pd\n",
    "import numpy as np\n",
    "import random\n",
    "import sys\n",
    "import seaborn as sns\n",
    "import matplotlib.pyplot as plt\n",
    "from sklearn.preprocessing import StandardScaler, OneHotEncoder\n",
    "from sklearn.metrics.pairwise import cosine_similarity\n"
   ]
  },
  {
   "cell_type": "code",
   "execution_count": null,
   "metadata": {},
   "outputs": [],
   "source": [
    "data_products_prior = pd.read_csv(\"C:/Users/Harsh Patel/Desktop/Big Data Mini Project/order\n",
    "ordersDF = pd.read_csv(\"C:/Users/Harsh Patel/Desktop/Big Data Mini Project/orders.csv\")\n",
    "productsDF = pd.read_csv(\"C:/Users/Harsh Patel/Desktop/Big Data Mini Project/products.csv\")\n",
    "order_products_train = pd.read_csv(\"C:/Users/Harsh Patel/Desktop/Big Data Mini Project/orders.csv\")\n",
    "order_products_prior = pd.read_csv(\"C:/Users/Harsh Patel/Desktop/Big Data Mini Project/orders.csv\")"
   ]
  },
  {
   "cell_type": "code",
   "execution_count": null,
   "metadata": {},
   "outputs": [],
   "source": [
    "print(\"The order_products_train size is : \", order_products_train.shape)\n",
    "print(\"The order_products_prior size is : \", order_products_prior.shape)"
   ]
  },
  {
   "cell_type": "code",
   "execution_count": null,
   "metadata": {},
   "outputs": [],
   "source": [
    "order_products_prior.head(2)"
   ]
  },
  {
   "cell_type": "code",
   "execution_count": null,
   "metadata": {},
   "outputs": [],
   "source": [
    "order_products_all = pd.concat([order_products_train, order_products_prior], axis=0)\n",
    "print(\"The order_products_all size is : \", order_products_all.shape)"
   ]
  },
  {
   "cell_type": "code",
   "execution_count": null,
   "metadata": {},
   "outputs": [],
   "source": [
    "order_products_all.head(5)"
   ]
  },
  {
   "cell_type": "code",
   "execution_count": null,
   "metadata": {},
   "outputs": [],
   "source": [
    "total = order_products_all.isnull().sum().sort_values(ascending=False)\n",
    "percent = (order_products_all.isnull().sum()/order_products_all.isnull().count()).sort_valu\n",
    "missing_data = pd.concat([total, percent], axis=1, keys=['Total Missing', 'Percent'])\n",
    "missing_data"
   ]
  },
  {
   "cell_type": "code",
   "execution_count": null,
   "metadata": {},
   "outputs": [],
   "source": [
    "#the most ordered products\n",
    "grouped = order_products_all.groupby(\"product_id\")[\"reordered\"].aggregate({'Total_reorders'\n",
    "grouped = pd.merge(grouped, productsDF[['product_id', 'product_name']], how='left', on=['pr\n",
    "grouped = grouped.sort_values(by='Total_reorders', ascending=False)[:10]\n",
    "grouped"
   ]
  },
  {
   "cell_type": "code",
   "execution_count": null,
   "metadata": {},
   "outputs": [],
   "source": [
    "grouped = ordersDF.groupby(\"eval_set\")[\"order_id\"].aggregate({'Total_orders': 'count'}).res\n",
    "grouped['Ratio'] = grouped[\"Total_orders\"].apply(lambda x: x /grouped['Total_orders'].sum()\n",
    "grouped"
   ]
  },
  {
   "cell_type": "markdown",
   "metadata": {},
   "source": [
    "# Data Visualization"
   ]
  },
  {
   "cell_type": "code",
   "execution_count": null,
   "metadata": {},
   "outputs": [],
   "source": [
    "#unique DOW values\n",
    "ordersDF.order_dow.unique()\n",
    "#what is the frequency of the orders according to days\n",
    "n, bins, patches = plt.hist(ordersDF.order_dow, 13, facecolor=\"red\", alpha=.75, align='mid'\n",
    "plt.xlabel(\"Day of Week\")\n",
    "plt.ylabel(\"Orders Count\")\n",
    "plt.title(\"When do people buy?\")\n",
    "plt.show()"
   ]
  },
  {
   "cell_type": "code",
   "execution_count": null,
   "metadata": {},
   "outputs": [],
   "source": [
    "ordersDF.order_hour_of_day.unique()\n",
    "n, bins, patches = plt.hist(ordersDF.order_hour_of_day, 47, facecolor=\"green\", alpha=.75, a\n",
    "plt.xlabel(\"Hour of Day\")\n",
    "plt.ylabel(\"Orders Count\")\n",
    "plt.title(\"When do people buy in a Day?\")\n",
    "plt.show()"
   ]
  },
  {
   "cell_type": "code",
   "execution_count": null,
   "metadata": {},
   "outputs": [],
   "source": [
    "grouped = ordersDF.groupby(\"eval_set\")[\"user_id\"].apply(lambda x: len(x.unique()))\n",
    "plt.figure(figsize=(7,8))\n",
    "sns.barplot(grouped.index, grouped.values, palette='bright')\n",
    "plt.ylabel('Number of users', fontsize=15)\n",
    "plt.xlabel('Eval set', fontsize=15)\n",
    "plt.title(\"Number of unique customers in each dataset\")\n",
    "plt.show()"
   ]
  },
  {
   "cell_type": "code",
   "execution_count": null,
   "metadata": {},
   "outputs": [],
   "source": [
    "departmentsDF = pd.read_csv(\"C:/Users/Harsh Patel/Desktop/Big Data Mini Project/departments\n",
    "aislesDF = pd.read_csv(\"C:/Users/Harsh Patel/Desktop/Big Data Mini Project/aisles.csv\")"
   ]
  },
  {
   "cell_type": "code",
   "execution_count": null,
   "metadata": {},
   "outputs": [],
   "source": [
    "aislesDF.head(7)"
   ]
  },
  {
   "cell_type": "code",
   "execution_count": null,
   "metadata": {},
   "outputs": [],
   "source": [
    "#Merge in single dataframe\n",
    "items = pd.merge(left =pd.merge(left=productsDF, right=departmentsDF, how='left'), right=a\n",
    "items.head()"
   ]
  },
  {
   "cell_type": "code",
   "execution_count": null,
   "metadata": {},
   "outputs": [],
   "source": [
    "#Most important departments\n",
    "grouped = items.groupby(\"department\")[\"product_id\"].aggregate({'Total_products': 'count'}).\n",
    "grouped['Ratio'] = grouped[\"Total_products\"].apply(lambda x: x /grouped['Total_products'].s\n",
    "grouped.sort_values(by='Total_products', ascending=False, inplace=True)\n",
    "grouped"
   ]
  },
  {
   "cell_type": "markdown",
   "metadata": {},
   "source": [
    "# Recommendation Model"
   ]
  },
  {
   "cell_type": "code",
   "execution_count": null,
   "metadata": {},
   "outputs": [],
   "source": [
    "#Merging Datasets\n",
    "opt = order_products_train.merge(productsDF,how='left', on='product_id')\n",
    "opt = opt.merge(departmentsDF,how='left', on='department_id')\n",
    "opt = opt.merge(aislesDF,how='left', on='aisle_id')"
   ]
  },
  {
   "cell_type": "code",
   "execution_count": null,
   "metadata": {},
   "outputs": [],
   "source": [
    "#Filtering of Data by reorders\n",
    "reorders = opt[opt['reordered'] == 1]\n",
    "reorders['product_id'] = reorders['product_id'].astype('int64')"
   ]
  },
  {
   "cell_type": "code",
   "execution_count": null,
   "metadata": {},
   "outputs": [],
   "source": [
    "hivol = reorders.copy()['product_id'].value_counts().sort_values(ascending=False)\\\n",
    "[reorders.copy()['product_id'].value_counts().sort_values(ascending=False) > 1].index.t"
   ]
  },
  {
   "cell_type": "code",
   "execution_count": null,
   "metadata": {},
   "outputs": [],
   "source": [
    "# mask the reorders dataframe to only incluse dem hi vol prods\n",
    "reorders = reorders[reorders['product_id'].isin(hivol)]"
   ]
  },
  {
   "cell_type": "code",
   "execution_count": null,
   "metadata": {},
   "outputs": [],
   "source": [
    "#filters the High demand items greater than.\n",
    "reorders['hi_dem'] = (reorders.copy()['product_id'].value_counts().sort_values(ascending=False)"
   ]
  },
  {
   "cell_type": "code",
   "execution_count": null,
   "metadata": {},
   "outputs": [],
   "source": [
    "hidem_ord = reorders[reorders['hi_dem'] == True]"
   ]
  },
  {
   "cell_type": "code",
   "execution_count": null,
   "metadata": {},
   "outputs": [],
   "source": [
    "user_orders = reorders.merge(ordersDF)"
   ]
  },
  {
   "cell_type": "code",
   "execution_count": null,
   "metadata": {},
   "outputs": [],
   "source": [
    "hidem_ord = user_orders[user_orders['hi_dem'] == True]"
   ]
  },
  {
   "cell_type": "code",
   "execution_count": null,
   "metadata": {},
   "outputs": [],
   "source": [
    "#return the total items\n",
    "users = hidem_ord.groupby(['user_id','product_name']).size().sort_values(ascending=False).u"
   ]
  },
  {
   "cell_type": "code",
   "execution_count": null,
   "metadata": {},
   "outputs": [],
   "source": [
    "#creates a similiarity by users.\n",
    "users_sim = pd.DataFrame(cosine_similarity(users),index=users.index,columns=users.index)"
   ]
  },
  {
   "cell_type": "code",
   "execution_count": null,
   "metadata": {},
   "outputs": [],
   "source": [
    "def next_prod(df,num_col):\n",
    "return df[df.columns[num_col]].drop(df.columns[num_col]).sort_values(ascending=False).h"
   ]
  },
  {
   "cell_type": "code",
   "execution_count": null,
   "metadata": {},
   "outputs": [],
   "source": [
    "#returns similar users to this one.\n",
    "pd.DataFrame(next_prod(users_sim,56)).T"
   ]
  },
  {
   "cell_type": "code",
   "execution_count": null,
   "metadata": {},
   "outputs": [],
   "source": [
    "#gives a recommendation for the last product added to shopping cart\n",
    "pd.DataFrame(next_prod(products_sim,11)).T"
   ]
  },
  {
   "cell_type": "code",
   "execution_count": null,
   "metadata": {},
   "outputs": [],
   "source": [
    "#Product Recommender by Order id\n",
    "baskets = hidem_ord.groupby(['product_name','order_id']).size().sort_values(ascending=False\n",
    "basket_sim = pd.DataFrame(cosine_similarity(baskets),columns=baskets.index,index=baskets.index\n",
    "basket_sim['Green Peas'].sort_values(ascending=False).head(10)[1:]"
   ]
  },
  {
   "cell_type": "code",
   "execution_count": null,
   "metadata": {},
   "outputs": [],
   "source": []
  },
  {
   "cell_type": "code",
   "execution_count": null,
   "metadata": {},
   "outputs": [],
   "source": []
  }
 ],
 "metadata": {
  "kernelspec": {
   "display_name": "Python 3",
   "language": "python",
   "name": "python3"
  },
  "language_info": {
   "codemirror_mode": {
    "name": "ipython",
    "version": 3
   },
   "file_extension": ".py",
   "mimetype": "text/x-python",
   "name": "python",
   "nbconvert_exporter": "python",
   "pygments_lexer": "ipython3",
   "version": "3.6.8"
  }
 },
 "nbformat": 4,
 "nbformat_minor": 2
}
